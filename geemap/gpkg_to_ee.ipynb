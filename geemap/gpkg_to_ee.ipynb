{
 "cells": [
  {
   "cell_type": "markdown",
   "metadata": {},
   "source": [
    "# Converting geopackage to Earth Engine object"
   ]
  },
  {
   "cell_type": "markdown",
   "metadata": {},
   "source": [
    "We will see how to convert a specific layer from geopackage file to an EE object. Currently the geemap module does not have support for this format (.gpkg)."
   ]
  },
  {
   "cell_type": "markdown",
   "metadata": {},
   "source": [
    "## Importing used libraries"
   ]
  },
  {
   "cell_type": "code",
   "execution_count": null,
   "metadata": {},
   "outputs": [],
   "source": [
    "import ee # # Authenticates and initializes Earth Engine\n",
    "import geemap # A dynamic module of Google Earth Engine\n",
    "import fiona # For geopackage file handling \n",
    "import os #To set and modify filepaths\n",
    "import json # For json objects\n",
    "import urllib # For download geopackage files"
   ]
  },
  {
   "cell_type": "markdown",
   "metadata": {},
   "source": [
    "## Geopackage data"
   ]
  },
  {
   "cell_type": "markdown",
   "metadata": {},
   "source": [
    "In this case, our input will be a URL, though can be a filepath"
   ]
  },
  {
   "cell_type": "code",
   "execution_count": null,
   "metadata": {},
   "outputs": [],
   "source": [
    "#A sample of ~6k restaurants in Metropolita Lima\n",
    "url_gpkg= \"https://github.com/jfphlorecti/GEE/raw/master/data/restaurants.gpkg\""
   ]
  },
  {
   "cell_type": "markdown",
   "metadata": {},
   "source": [
    "## Defining functions"
   ]
  },
  {
   "cell_type": "code",
   "execution_count": null,
   "metadata": {},
   "outputs": [],
   "source": [
    "def ee_initialize(): ## Initializing in Google Earth Engine as function\n",
    "    try:\n",
    "        ee.Initialize()\n",
    "    except:\n",
    "        ee.Authenticate()\n",
    "        ee.Initialize()"
   ]
  },
  {
   "cell_type": "markdown",
   "metadata": {},
   "source": [
    "This function allows us to know if the input path is a URL or a filepath"
   ]
  },
  {
   "cell_type": "code",
   "execution_count": null,
   "metadata": {},
   "outputs": [],
   "source": [
    "def is_url(url): # URL Input verification\n",
    "    \"\"\"Check to see if *url* has a valid protocol.\"\"\"\n",
    "    import urllib \n",
    "    try:\n",
    "        return urllib.parse.urlparse(url).scheme in ('http', 'https') \n",
    "    except Exception:\n",
    "        return False"
   ]
  },
  {
   "cell_type": "markdown",
   "metadata": {},
   "source": [
    "## NOTE\n",
    "To convert a geopackage file to an ee object, you need to first convert it in a geojson file, this  provide us an exist way to obtain an ee object (with geojson_to_ee)"
   ]
  },
  {
   "cell_type": "markdown",
   "metadata": {},
   "source": [
    "## Geopackage file to geojson"
   ]
  },
  {
   "cell_type": "markdown",
   "metadata": {},
   "source": [
    "### Summary of Process\n",
    "First, We define the ways of saving an output json file wether URL or filepath. There are three ways: if your route is defined or not, if it is duplicated and if the route does not yet exist.\n",
    "\n",
    "Meanwhile, I  make fiona read this files in two different ways (as URL and filepath), I use fiona package to handling geopackage file, since package have supported drivers (.gpkg extension). Then, I extract similar keys of geojson (id, properties and geometry). \n",
    "\n",
    "These results are stored in a buffer list. Next, I open the empty output json and write in it: type: feature Collection and in features I add buffer list. Finally I load it and ready! We already have our geojson."
   ]
  },
  {
   "cell_type": "code",
   "execution_count": null,
   "metadata": {},
   "outputs": [],
   "source": [
    "def gpkg_to_geojson(in_gpkg, layer= None, out_json=None):\n",
    "    \"\"\"Converts a geopackage to GeoJSON.\n",
    "    Args:\n",
    "        in_gpkg (str): File path or URL of the input geopackage.\n",
    "        layer (str, optional): Layer of the input geopackage. Defaults first layer as None\n",
    "        out_json (str, optional): File path of the output GeoJSON. Defaults to None.\n",
    "    Returns:\n",
    "        object: The json object representing the geopackage.\n",
    "    \"\"\"   \n",
    "    try: \n",
    "        import fiona\n",
    "        import json  \n",
    "        if os.path.exists(in_gpkg): # If the path is a filepath      \n",
    "                path_or_bytes = os.path.abspath(in_gpkg)\n",
    "                reader = fiona.open\n",
    "                if out_json is None:  ## Obtaining empty output json\n",
    "                    out_json = os.path.splitext(in_gpkg)[0] + \".json\"\n",
    "                elif os.path.exists(out_json): # If the out_json is duplicated\n",
    "                    out_json = out_json.replace('.json', '_bk.json')  \n",
    "                elif not os.path.exists(os.path.dirname(out_json)): # If the filepath has not been created yet\n",
    "                    os.makedirs(os.path.dirname(out_json))    \n",
    "      \n",
    "                    \n",
    "        elif is_url(in_gpkg): # If the path is a URL                  \n",
    "                path_or_bytes = urllib.request.urlopen(in_gpkg).read()\n",
    "                reader = fiona.BytesCollection            \n",
    "                if out_json is None: # If the ouput name of the json is not specified\n",
    "                    out_json = os.path.split(in_gpkg)[1].split(\".\")[0] + \".json\"\n",
    "                elif os.path.exists(out_json): # If the out_json is duplicated\n",
    "                    out_json = out_json.replace('.json', '_bk.json')    \n",
    "                elif not os.path.exists(os.path.dirname(out_json)): # If the filepath has not been created yet\n",
    "                    os.makedirs(os.path.dirname(out_json))             \n",
    "\n",
    "        buffer=[]         \n",
    "        with reader(path_or_bytes, layer = layer, enabled_drivers=\"GPKG\") as features:\n",
    "            for feature in features: #Reading each feature of geopackage we obtain a dict keys for json\n",
    "                    ids = feature[\"id\"]\n",
    "                    atr = feature[\"properties\"]\n",
    "                    geom = feature[\"geometry\"]\n",
    "                    buffer.append(dict(id = ids, type=\"Feature\", properties=atr, geometry=geom)) \n",
    "\n",
    "        with open(out_json, \"w\") as geojson: \n",
    "            geojson.write(json.dumps({\"type\": \"FeatureCollection\", #Writing in a json our buffer list\n",
    "                                 \"features\":buffer}, indent=2))\n",
    "            geojson.close()          \n",
    "        with open(out_json) as f:\n",
    "             json_data = json.load(f) #Reading a full json and return it as result\n",
    "       \n",
    "        return json_data\n",
    "\n",
    "    except Exception as e:\n",
    "        print(e)"
   ]
  },
  {
   "cell_type": "markdown",
   "metadata": {},
   "source": [
    "Next, after that, we have a made definition of geojson_to_ee obtained in [geemap](https://github.com/giswqs/geemap/blob/master/geemap/geemap.py)"
   ]
  },
  {
   "cell_type": "code",
   "execution_count": null,
   "metadata": {},
   "outputs": [],
   "source": [
    "def geojson_to_ee(geo_json, geodesic=True):\n",
    "    \"\"\"Converts a geojson to ee.Geometry()\n",
    "    Args:\n",
    "        geo_json (dict): A geojson geometry dictionary or file path.\n",
    "    Returns:\n",
    "        ee_object: An ee.Geometry object\n",
    "    \"\"\"\n",
    "    ee_initialize()\n",
    "\n",
    "    try:\n",
    "        import json\n",
    "\n",
    "        if not isinstance(geo_json, dict) and os.path.isfile(geo_json):\n",
    "            with open(os.path.abspath(geo_json)) as f:\n",
    "                geo_json = json.load(f)\n",
    "\n",
    "        if geo_json['type'] == 'FeatureCollection':\n",
    "            features = ee.FeatureCollection(geo_json['features'])\n",
    "            return features\n",
    "        elif geo_json['type'] == 'Feature':\n",
    "            geom = None\n",
    "            keys = geo_json['properties']['style'].keys()\n",
    "            if 'radius' in keys:  # Checks whether it is a circle\n",
    "                geom = ee.Geometry(geo_json['geometry'])\n",
    "                radius = geo_json['properties']['style']['radius']\n",
    "                geom = geom.buffer(radius)\n",
    "            elif geo_json['geometry']['type'] == 'Point':  # Checks whether it is a point\n",
    "                coordinates = geo_json['geometry']['coordinates']\n",
    "                longitude = coordinates[0]\n",
    "                latitude = coordinates[1]\n",
    "                geom = ee.Geometry.Point(longitude, latitude)\n",
    "            else:\n",
    "                geom = ee.Geometry(geo_json['geometry'], \"\", geodesic)\n",
    "            return geom\n",
    "        else:\n",
    "            print( \"Could not convert the geojson to ee.Geometry()\" )\n",
    "    except Exception as e:\n",
    "            print(\"Could not convert the geojson to ee.Geometry()\")\n",
    "            print(e)"
   ]
  },
  {
   "cell_type": "markdown",
   "metadata": {},
   "source": [
    "### Geopackage file in Earth Engine object"
   ]
  },
  {
   "cell_type": "markdown",
   "metadata": {},
   "source": [
    "For last, I merge above functions in one. Finally we have gpkg_to_ee function"
   ]
  },
  {
   "cell_type": "code",
   "execution_count": null,
   "metadata": {},
   "outputs": [],
   "source": [
    "def gpkg_to_ee(in_gpkg, layer=None):\n",
    "    \"\"\"Converts a geopackage to Earth Engine objects.\n",
    "    Args:\n",
    "        in_gpkg (str): File path to a geopackage.\n",
    "    Returns:\n",
    "        object: Earth Engine objects representing the geopackage\n",
    "    \"\"\"\n",
    "    ee_initialize()\n",
    "    try:\n",
    "        json_data = gpkg_to_geojson(in_gpkg, layer= layer) ## Converting geopackage file to geojson\n",
    "        ee_object  = geojson_to_ee(json_data) ## Converting geojson to ee object\n",
    "        return ee_object\n",
    "    except Exception as e:\n",
    "        print(e)"
   ]
  },
  {
   "cell_type": "markdown",
   "metadata": {},
   "source": [
    "## Testing our gkpg_to_geojson and gpkg_to_ee functions"
   ]
  },
  {
   "cell_type": "code",
   "execution_count": null,
   "metadata": {
    "scrolled": true
   },
   "outputs": [],
   "source": [
    "## From URL\n",
    "url = \"https://github.com/jfphlorecti/GEE/raw/master/data/restaurants.gpkg\"\n",
    "restaurants_json= gpkg_to_geojson(url, layer=\"restaurants\")\n",
    "restaurants_json"
   ]
  },
  {
   "cell_type": "code",
   "execution_count": null,
   "metadata": {},
   "outputs": [],
   "source": [
    "## From filepath \n",
    "import os\n",
    "workspace = r\"C:\\Users\\jf_ph\\OneDrive\\Documentos\\Python Scripts\\gee\\data\"\n",
    "geegpkg = os.path.join(workspace,\"geegpkg.gpkg\")\n",
    "gpkg_json= gpkg_to_geojson(geegpkg,layer=\"departamentos\")\n",
    "gpkg_json"
   ]
  },
  {
   "cell_type": "code",
   "execution_count": null,
   "metadata": {},
   "outputs": [],
   "source": [
    "## Creating a ee.FeatureCollection\n",
    "restaurants_ee= gpkg_to_ee(url)\n",
    "restaurants_ee"
   ]
  },
  {
   "cell_type": "code",
   "execution_count": null,
   "metadata": {},
   "outputs": [],
   "source": [
    "##Visualizing on Google Earth Engine map\n",
    "Map = geemap.Map(center =[-12.07,-77.11],zoom = 9.5)\n",
    "Map.addLayer(restaurants_ee,{\"color\":\"darkorange\"},\"Restaurants in Metropolitan Lima\")\n",
    "Map"
   ]
  }
 ],
 "metadata": {
  "kernelspec": {
   "display_name": "Python 3",
   "language": "python",
   "name": "python3"
  },
  "language_info": {
   "codemirror_mode": {
    "name": "ipython",
    "version": 3
   },
   "file_extension": ".py",
   "mimetype": "text/x-python",
   "name": "python",
   "nbconvert_exporter": "python",
   "pygments_lexer": "ipython3",
   "version": "3.8.3"
  }
 },
 "nbformat": 4,
 "nbformat_minor": 4
}
